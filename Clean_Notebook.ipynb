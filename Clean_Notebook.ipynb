{
 "cells": [
  {
   "cell_type": "code",
   "execution_count": 1,
   "metadata": {},
   "outputs": [
    {
     "name": "stdout",
     "output_type": "stream",
     "text": [
      "[[0.         0.18569534 0.18569534 ... 0.         0.         0.18569534]\n",
      " [0.         0.8660254  0.4330127  ... 0.         0.04811252 0.        ]\n",
      " [0.         0.85349181 0.3939193  ... 0.         0.         0.06565322]\n",
      " ...\n",
      " [0.05997601 0.53978413 0.77968819 ... 0.         0.05997601 0.        ]\n",
      " [0.         0.89625816 0.38411064 ... 0.         0.04267896 0.        ]\n",
      " [0.09205746 0.27617239 0.82851716 ... 0.         0.         0.09205746]]\n"
     ]
    }
   ],
   "source": [
    "import numpy as np\n",
    "import pandas as pd\n",
    "from sklearn.model_selection import train_test_split\n",
    "from sklearn.svm import SVC\n",
    "from sklearn.metrics import accuracy_score\n",
    "from sklearn.linear_model import LogisticRegression\n",
    "from sklearn.feature_selection import RFECV\n",
    "from sklearn.feature_selection import RFE\n",
    "from sklearn.preprocessing import Normalizer\n",
    "from sklearn.model_selection import StratifiedKFold\n",
    "\n",
    "\n",
    "def crossCheck(cross,foldnum):\n",
    "    scores=[]\n",
    "    for i in range(len(cross)):\n",
    "\n",
    "        ctrain=[]\n",
    "        ctrain_y=[]\n",
    "        testnum=foldnum-i-1\n",
    "        testme=[]\n",
    "        testme_y=[]\n",
    "        \n",
    "        testme=np.array(testme)\n",
    "        testme_y=np.array(testme_y)\n",
    "        j=0\n",
    "        while j<len(cross):\n",
    "\n",
    "            \n",
    "            if j!=testnum:\n",
    "                for thing in cross[j]:\n",
    "                    ctrain.append(thing[0])\n",
    "                    ctrain_y.append(thing[1])\n",
    "               \n",
    "            j+=1\n",
    "            \n",
    "###  PREPARING DATA  ###\n",
    "        \n",
    "#Reading in data from files\n",
    "meds=open('meds.txt').readline().strip().split('\\t')\n",
    "data=pd.read_csv('diabetic_data.csv')\n",
    "\n",
    "#Diagnosis Features\n",
    "diag=data[['diag_1','diag_2','diag_3']]\n",
    "\n",
    "#dropping incomplete and unneeded data\n",
    "data=data.drop(['admission_type_id','discharge_disposition_id','admission_source_id','time_in_hospital','max_glu_serum','number_inpatient','number_emergency','number_outpatient','num_procedures','num_lab_procedures','encounter_id','patient_nbr','weight','payer_code','A1Cresult','medical_specialty','max_glu_serum','diag_1','diag_2','diag_3'],axis=1)\n",
    "data=data.drop(data[data.race=='?'].index)\n",
    "data=data.drop(data[data.gender=='Unknown/Invalid'].index)\n",
    "\n",
    "#Readmission Features\n",
    "read=data['readmitted']\n",
    "read=read.str.upper()\n",
    "read=read.replace(['NO','<30','>30'],[0,1,2])\n",
    "\n",
    "#Giving Categorical Features Numerical Values\n",
    "data=data.replace(['None','Female'],0)\n",
    "data=data.replace(['Male'],1)\n",
    "#data=data.replace(['[0-10)','[10-20)','[20-30)','[30-40)','[40-50)','[50-60)','[60-70)','[70-80)','[80-90)','[90-100)'],[0,1,2,3,4,5,6,7,8,9])\n",
    "data=data.replace(['Down'],2)\n",
    "#data=data.replace(['Other','Hispanic'],[3,4])\n",
    "r=pd.get_dummies(data[['race','diabetesMed']])\n",
    "change=pd.get_dummies(data['change'])\n",
    "a=pd.get_dummies(data['age'])\n",
    "meddum=pd.get_dummies(data[meds])\n",
    "\n",
    "#Recompiling dataset\n",
    "newdata=pd.concat([data,r,a,meddum,change],axis=1)\n",
    "newdata=newdata.drop(['age','race','readmitted','change','diabetesMed'],axis=1)\n",
    "newdata=newdata.drop(meds,axis=1)\n",
    "\n",
    "#normalization\n",
    "transformer = Normalizer().fit(newdata)\n",
    "tran=transformer.transform(newdata)\n",
    "print(tran)\n",
    "\n",
    "#converting to numpy\n",
    "read=np.array(read)\n",
    "\n",
    "#splitting between training and testing\n",
    "train_X, test_X, train_y, test_y = train_test_split(tran, read, test_size=0.3,random_state=0)\n",
    "\n"
   ]
  },
  {
   "cell_type": "code",
   "execution_count": null,
   "metadata": {},
   "outputs": [],
   "source": [
    "from sklearn.ensemble import RandomForestClassifier\n",
    "from sklearn.datasets import make_classification\n",
    "from sklearn.model_selection import GridSearchCV\n",
    "\n",
    "parameters = {'kernel':('linear', 'rbf'), 'C':[1, 10]}\n",
    "svc = SVC()\n",
    "clf = GridSearchCV(svc, parameters, cv=5)\n",
    "clf.fit(train_X,train_y)"
   ]
  },
  {
   "cell_type": "code",
   "execution_count": null,
   "metadata": {},
   "outputs": [],
   "source": [
    "from sklearn.metrics import f1_score\n",
    "pred=(model.predict(test_X))\n",
    "print(f1_score(pred,test_y))\n",
    "print(accuracy_score(pred,test_y))"
   ]
  },
  {
   "cell_type": "code",
   "execution_count": 2,
   "metadata": {},
   "outputs": [
    {
     "data": {
      "text/plain": [
       "RFE(estimator=LogisticRegression(C=1.0, class_weight=None, dual=False, fit_intercept=True,\n",
       "          intercept_scaling=1, max_iter=100, multi_class='ovr', n_jobs=1,\n",
       "          penalty='l2', random_state=None, solver='liblinear', tol=0.0001,\n",
       "          verbose=0, warm_start=False),\n",
       "  n_features_to_select=7, step=1, verbose=0)"
      ]
     },
     "execution_count": 2,
     "metadata": {},
     "output_type": "execute_result"
    }
   ],
   "source": [
    "###  MODEL S\n",
    "model = LogisticRegression()\n",
    "rfe=RFE(estimator=model, n_features_to_select=7, step=1)\n",
    "rfe.fit(train_X,train_y)\n",
    "#print(rfe.get_params)\n",
    "# hi=list(newdata.columns.values)\n",
    "# hey=list(rfe.ranking_)\n",
    "# i=0\n",
    "# print(hi)\n",
    "# for thing in hey:\n",
    "#     if thing ==1:\n",
    "#         print(hi[i])\n",
    "#     i+=1\n"
   ]
  },
  {
   "cell_type": "code",
   "execution_count": 3,
   "metadata": {},
   "outputs": [
    {
     "name": "stdout",
     "output_type": "stream",
     "text": [
      "29848\n",
      "0.5408067542213884\n"
     ]
    }
   ],
   "source": [
    "model = SVC(kernel='linear')\n",
    "\n",
    "model.fit(train_X,train_y)\n",
    "\n",
    "pred=(model.predict(test_X))\n",
    "testy=np.array(test_y)\n",
    "print(len(pred))\n",
    "i=0\n",
    "falsep=0\n",
    "falsen=0\n",
    "wrongn=0\n",
    "rightp=0\n",
    "# for thing in pred:\n",
    "#     if thing != testy[i] and thing==1:\n",
    "#         #wrong+=1\n",
    "#         falsep+=1\n",
    "#         #print(thing,testy[i])\n",
    "#     elif thing!=testy[i] and thing==0:\n",
    "#         falsen+=1\n",
    "#     elif thing==testy[i] and thing==1:\n",
    "#         rightp+=1\n",
    "#     else: \n",
    "#         wrongn+=1\n",
    "    #right+=1\n",
    "    \n",
    "    \n",
    "#     i+=1\n",
    "# print(rightp,wrongn,falsep,falsen)\n",
    "# p=rightp/(rightp+falsep)\n",
    "# r=rightp/(falsen+rightp)\n",
    "# f=2*((p*r)/(p+r))\n",
    "# print(p,r,f)\n",
    "print(accuracy_score(pred,test_y))\n"
   ]
  },
  {
   "cell_type": "code",
   "execution_count": 4,
   "metadata": {},
   "outputs": [
    {
     "ename": "ValueError",
     "evalue": "Target is multiclass but average='binary'. Please choose another average setting.",
     "output_type": "error",
     "traceback": [
      "\u001b[1;31m---------------------------------------------------------------------------\u001b[0m",
      "\u001b[1;31mValueError\u001b[0m                                Traceback (most recent call last)",
      "\u001b[1;32m<ipython-input-4-5ecb10ff66d8>\u001b[0m in \u001b[0;36m<module>\u001b[1;34m()\u001b[0m\n\u001b[0;32m      1\u001b[0m \u001b[1;32mfrom\u001b[0m \u001b[0msklearn\u001b[0m\u001b[1;33m.\u001b[0m\u001b[0mmetrics\u001b[0m \u001b[1;32mimport\u001b[0m \u001b[0mf1_score\u001b[0m\u001b[1;33m\u001b[0m\u001b[0m\n\u001b[1;32m----> 2\u001b[1;33m \u001b[0mprint\u001b[0m\u001b[1;33m(\u001b[0m\u001b[0mf1_score\u001b[0m\u001b[1;33m(\u001b[0m\u001b[0mpred\u001b[0m\u001b[1;33m,\u001b[0m\u001b[0mtest_y\u001b[0m\u001b[1;33m)\u001b[0m\u001b[1;33m)\u001b[0m\u001b[1;33m\u001b[0m\u001b[0m\n\u001b[0m",
      "\u001b[1;32m~\\AppData\\Local\\Continuum\\anaconda3\\lib\\site-packages\\sklearn\\metrics\\classification.py\u001b[0m in \u001b[0;36mf1_score\u001b[1;34m(y_true, y_pred, labels, pos_label, average, sample_weight)\u001b[0m\n\u001b[0;32m    712\u001b[0m     return fbeta_score(y_true, y_pred, 1, labels=labels,\n\u001b[0;32m    713\u001b[0m                        \u001b[0mpos_label\u001b[0m\u001b[1;33m=\u001b[0m\u001b[0mpos_label\u001b[0m\u001b[1;33m,\u001b[0m \u001b[0maverage\u001b[0m\u001b[1;33m=\u001b[0m\u001b[0maverage\u001b[0m\u001b[1;33m,\u001b[0m\u001b[1;33m\u001b[0m\u001b[0m\n\u001b[1;32m--> 714\u001b[1;33m                        sample_weight=sample_weight)\n\u001b[0m\u001b[0;32m    715\u001b[0m \u001b[1;33m\u001b[0m\u001b[0m\n\u001b[0;32m    716\u001b[0m \u001b[1;33m\u001b[0m\u001b[0m\n",
      "\u001b[1;32m~\\AppData\\Local\\Continuum\\anaconda3\\lib\\site-packages\\sklearn\\metrics\\classification.py\u001b[0m in \u001b[0;36mfbeta_score\u001b[1;34m(y_true, y_pred, beta, labels, pos_label, average, sample_weight)\u001b[0m\n\u001b[0;32m    826\u001b[0m                                                  \u001b[0maverage\u001b[0m\u001b[1;33m=\u001b[0m\u001b[0maverage\u001b[0m\u001b[1;33m,\u001b[0m\u001b[1;33m\u001b[0m\u001b[0m\n\u001b[0;32m    827\u001b[0m                                                  \u001b[0mwarn_for\u001b[0m\u001b[1;33m=\u001b[0m\u001b[1;33m(\u001b[0m\u001b[1;34m'f-score'\u001b[0m\u001b[1;33m,\u001b[0m\u001b[1;33m)\u001b[0m\u001b[1;33m,\u001b[0m\u001b[1;33m\u001b[0m\u001b[0m\n\u001b[1;32m--> 828\u001b[1;33m                                                  sample_weight=sample_weight)\n\u001b[0m\u001b[0;32m    829\u001b[0m     \u001b[1;32mreturn\u001b[0m \u001b[0mf\u001b[0m\u001b[1;33m\u001b[0m\u001b[0m\n\u001b[0;32m    830\u001b[0m \u001b[1;33m\u001b[0m\u001b[0m\n",
      "\u001b[1;32m~\\AppData\\Local\\Continuum\\anaconda3\\lib\\site-packages\\sklearn\\metrics\\classification.py\u001b[0m in \u001b[0;36mprecision_recall_fscore_support\u001b[1;34m(y_true, y_pred, beta, labels, pos_label, average, warn_for, sample_weight)\u001b[0m\n\u001b[0;32m   1038\u001b[0m         \u001b[1;32melse\u001b[0m\u001b[1;33m:\u001b[0m\u001b[1;33m\u001b[0m\u001b[0m\n\u001b[0;32m   1039\u001b[0m             raise ValueError(\"Target is %s but average='binary'. Please \"\n\u001b[1;32m-> 1040\u001b[1;33m                              \"choose another average setting.\" % y_type)\n\u001b[0m\u001b[0;32m   1041\u001b[0m     \u001b[1;32melif\u001b[0m \u001b[0mpos_label\u001b[0m \u001b[1;32mnot\u001b[0m \u001b[1;32min\u001b[0m \u001b[1;33m(\u001b[0m\u001b[1;32mNone\u001b[0m\u001b[1;33m,\u001b[0m \u001b[1;36m1\u001b[0m\u001b[1;33m)\u001b[0m\u001b[1;33m:\u001b[0m\u001b[1;33m\u001b[0m\u001b[0m\n\u001b[0;32m   1042\u001b[0m         warnings.warn(\"Note that pos_label (set to %r) is ignored when \"\n",
      "\u001b[1;31mValueError\u001b[0m: Target is multiclass but average='binary'. Please choose another average setting."
     ]
    }
   ],
   "source": [
    "from sklearn.metrics import f1_score\n",
    "print(f1_score(pred,test_y))"
   ]
  },
  {
   "cell_type": "code",
   "execution_count": null,
   "metadata": {},
   "outputs": [],
   "source": []
  }
 ],
 "metadata": {
  "kernelspec": {
   "display_name": "Python 3",
   "language": "python",
   "name": "python3"
  },
  "language_info": {
   "codemirror_mode": {
    "name": "ipython",
    "version": 3
   },
   "file_extension": ".py",
   "mimetype": "text/x-python",
   "name": "python",
   "nbconvert_exporter": "python",
   "pygments_lexer": "ipython3",
   "version": "3.7.0"
  }
 },
 "nbformat": 4,
 "nbformat_minor": 2
}
