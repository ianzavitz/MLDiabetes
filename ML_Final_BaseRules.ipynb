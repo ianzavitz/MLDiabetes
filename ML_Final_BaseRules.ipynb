{
 "cells": [
  {
   "cell_type": "code",
   "execution_count": 29,
   "metadata": {},
   "outputs": [
    {
     "name": "stdout",
     "output_type": "stream",
     "text": [
      "[['Caucasian' 'Female' 0 ..., 'Ch' 'Yes' '>30']\n",
      " ['AfricanAmerican' 'Male' 1 ..., 'Ch' 'Yes' 'NO']\n",
      " ['Other' 'Male' 1 ..., 'No' 'Yes' 'NO']\n",
      " ..., \n",
      " ['Caucasian' 'Male' 1 ..., 'No' 'Yes' 'NO']\n",
      " ['Caucasian' 'Female' 1 ..., 'Ch' 'Yes' 'NO']\n",
      " ['Hispanic' 'Female' 1 ..., 'Ch' 'Yes' 'NO']]\n",
      "0.5404382203162691\n"
     ]
    }
   ],
   "source": [
    "import numpy as np\n",
    "import pandas as pd\n",
    "from sklearn.model_selection import train_test_split\n",
    "from sklearn.svm import SVC\n",
    "from sklearn.metrics import accuracy_score\n",
    "from sklearn.linear_model import LogisticRegression\n",
    "from sklearn.feature_selection import RFECV\n",
    "from sklearn.feature_selection import RFE\n",
    "from sklearn.preprocessing import Normalizer\n",
    "from sklearn.model_selection import StratifiedKFold\n",
    "import re\n",
    "\n",
    "\n",
    "data=pd.read_csv('diabetic_data.csv')\n",
    "data=data.replace(['[0-10)','[10-20)','[20-30)','[30-40)','[40-50)'],0)\n",
    "data=data.replace(['[50-60)','[60-70)','[70-80)','[80-90)','[90-100)'],1)\n",
    "data=data.drop(data[data.gender=='Unknown/Invalid'].index)\n",
    "\n",
    "data=data.drop(['admission_type_id','discharge_disposition_id','admission_source_id','max_glu_serum','number_inpatient','number_emergency','number_outpatient','num_procedures','encounter_id','patient_nbr','weight','payer_code','A1Cresult','medical_specialty','max_glu_serum','diag_1','diag_2','diag_3'],axis=1)\n",
    "data=data.drop(data[data.race=='?'].index)\n",
    "\n",
    "read=data['readmitted']\n",
    "\n",
    "read=read.replace(['NO','<30','>30'],[0,1,1])\n",
    "\n",
    "train_X, test_X, train_y, test_y = train_test_split(data, read, test_size=0.3,random_state=0)\n",
    "#print(train_X)\n",
    "trainX=np.array(test_X)\n",
    "trainy=np.array(test_y)\n",
    "\n",
    "#print(trainX)\n",
    "answers=[]\n",
    "for thing in trainX:\n",
    "   # print(len(thing))\n",
    "    #num lab, diabetes meds, time in hospital <4\n",
    "    if thing[2]==1 and thing[3]>=4 and thing[4]>=40 and thing[31]=='Yes':\n",
    "       # print(thing[31])\n",
    "        answers.append(1)\n",
    "    else:\n",
    "        answers.append(0)\n",
    "i=0\n",
    "#trainX=list(trainX)\n",
    "test=0\n",
    "print(trainX)\n",
    "for answer in answers:\n",
    "    if answer==trainy[i]:\n",
    "        test+=1\n",
    "    i+=1\n",
    "print(test/len(answers))"
   ]
  },
  {
   "cell_type": "code",
   "execution_count": null,
   "metadata": {
    "collapsed": true
   },
   "outputs": [],
   "source": []
  }
 ],
 "metadata": {
  "kernelspec": {
   "display_name": "Python 3",
   "language": "python",
   "name": "python3"
  },
  "language_info": {
   "codemirror_mode": {
    "name": "ipython",
    "version": 3
   },
   "file_extension": ".py",
   "mimetype": "text/x-python",
   "name": "python",
   "nbconvert_exporter": "python",
   "pygments_lexer": "ipython3",
   "version": "3.6.2"
  }
 },
 "nbformat": 4,
 "nbformat_minor": 2
}
