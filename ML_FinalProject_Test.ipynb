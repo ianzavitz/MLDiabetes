{
 "cells": [
  {
   "cell_type": "code",
   "execution_count": 96,
   "metadata": {},
   "outputs": [
    {
     "name": "stdout",
     "output_type": "stream",
     "text": [
      "[[ 0.          0.          0.         ...,  0.          0.          0.        ]\n",
      " [ 0.          0.          0.04944682 ...,  0.          0.04944682\n",
      "   0.04944682]\n",
      " [ 0.06868028  0.          0.13736056 ...,  0.          0.          0.06868028]\n",
      " ..., \n",
      " [ 0.          0.05707301  0.3995111  ...,  0.          0.05707301\n",
      "   0.05707301]\n",
      " [ 0.          0.          0.32907603 ...,  0.          0.0411345\n",
      "   0.0411345 ]\n",
      " [ 0.          0.08451543  0.59160798 ...,  0.          0.          0.        ]]\n",
      "0.549953095685\n"
     ]
    }
   ],
   "source": [
    "import numpy as np\n",
    "import pandas as pd\n",
    "from sklearn.model_selection import train_test_split\n",
    "from sklearn.svm import LinearSVC\n",
    "from sklearn.metrics import accuracy_score\n",
    "from sklearn.linear_model import LogisticRegression\n",
    "from sklearn.feature_selection import RFECV\n",
    "from sklearn.feature_selection import RFE\n",
    "from sklearn.preprocessing import Normalizer\n",
    "from sklearn.model_selection import StratifiedKFold\n",
    "def crossCheck(cross,foldnum):\n",
    "    scores=[]\n",
    "    for i in range(len(cross)):\n",
    "\n",
    "        ctrain=[]\n",
    "        ctrain_y=[]\n",
    "        testnum=foldnum-i-1\n",
    "        testme=[]\n",
    "        testme_y=[]\n",
    "        \n",
    "        testme=np.array(testme)\n",
    "        testme_y=np.array(testme_y)\n",
    "        j=0\n",
    "        while j<len(cross):\n",
    "\n",
    "            \n",
    "            if j!=testnum:\n",
    "                for thing in cross[j]:\n",
    "                    ctrain.append(thing[0])\n",
    "                    ctrain_y.append(thing[1])\n",
    "               \n",
    "            j+=1\n",
    "data=pd.read_csv('diabetic_data.csv')\n",
    "data=data.drop(['admission_type_id','discharge_disposition_id','admission_source_id','time_in_hospital','max_glu_serum','number_inpatient','number_emergency','number_outpatient','num_procedures','num_lab_procedures','encounter_id','patient_nbr','weight','payer_code','A1Cresult','medical_specialty','max_glu_serum','diag_1','diag_2','diag_3'],axis=1)\n",
    "data=data.drop(data[data.race=='?'].index)\n",
    "\n",
    "data=data.drop(data[data.gender=='Unknown/Invalid'].index)\n",
    "#data=data.drop(data[data.diag_3==str].index)\n",
    "\n",
    "\n",
    "read=data['readmitted']\n",
    "read=read.str.upper()\n",
    "read=read.replace(['NO','<30','>30'],[0,1,1])\n",
    "\n",
    "#print(read)\n",
    "data=data.replace(['None','No','Caucasian','Female'],0)\n",
    "data=data.replace(['Male','Up','Yes','AfricanAmerican','Ch','Steady'],1)\n",
    "data=data.replace(['[0-10)','[10-20)','[20-30)','[30-40)','[40-50)','[50-60)','[60-70)','[70-80)','[80-90)','[90-100)'],[0,1,2,3,4,5,6,7,8,9])\n",
    "data=data.replace(['Asian','Down'],2)\n",
    "data=data.replace(['Other','Hispanic'],[3,4])\n",
    "\n",
    "X=data.drop(['readmitted'],axis=1)\n",
    "transformer = Normalizer().fit(X)\n",
    "tran=transformer.transform(X)\n",
    "print(tran)\n",
    "X=X[['chlorpropamide','acarbose','miglitol','tolazamide','glipizide-metformin']]\n",
    "#X=X[['race','gender','number_diagnoses','change','diabetesMed']]\n",
    "#print(X)\n",
    "#print(read)\n",
    "read=np.array(read)\n",
    "#for thing in read:\n",
    "#    print(thing)\n",
    "train_X, test_X, train_y, test_y = train_test_split(tran, read, test_size=0.3,random_state=0)\n",
    "#print(train_X)\n",
    "model = LogisticRegression()\n",
    "#rfe=(RFECV(estimator=model,step=1,cv=StratifiedKFold(3),scoring='accuracy'))\n",
    "# rfe=RFE(estimator=model, n_features_to_select=5, step=1)\n",
    "# rfe.fit(train_X,train_y)\n",
    "model.fit(train_X,train_y)\n",
    "# print(rfe.get_params)\n",
    "# hi=list(data.columns.values)\n",
    "# hey=list(rfe.ranking_)\n",
    "# i=0\n",
    "# for thing in hey:\n",
    "#     if thing ==1:\n",
    "#         print(hi[i])\n",
    "#     i+=1\n",
    "model = LogisticRegression()\n",
    "\n",
    "model.fit(train_X,train_y)\n",
    "\n",
    "pred=(model.predict(test_X))\n",
    "testy=np.array(test_y)\n",
    "# print(len(pred))\n",
    "# i=1\n",
    "# for thing in pred:\n",
    "#     if thing != testy[i]:\n",
    "#         print(thing,testy[i])\n",
    "#     i+=1\n",
    "# print(i)\n",
    "\n",
    "print(accuracy_score(pred,test_y))\n"
   ]
  },
  {
   "cell_type": "code",
   "execution_count": 54,
   "metadata": {},
   "outputs": [
    {
     "name": "stdout",
     "output_type": "stream",
     "text": [
      "0.05196328062181721\n"
     ]
    }
   ],
   "source": [
    "print(i/len(pred))"
   ]
  },
  {
   "cell_type": "code",
   "execution_count": null,
   "metadata": {
    "collapsed": true
   },
   "outputs": [],
   "source": []
  }
 ],
 "metadata": {
  "kernelspec": {
   "display_name": "Python 3",
   "language": "python",
   "name": "python3"
  },
  "language_info": {
   "codemirror_mode": {
    "name": "ipython",
    "version": 3
   },
   "file_extension": ".py",
   "mimetype": "text/x-python",
   "name": "python",
   "nbconvert_exporter": "python",
   "pygments_lexer": "ipython3",
   "version": "3.6.2"
  }
 },
 "nbformat": 4,
 "nbformat_minor": 2
}
