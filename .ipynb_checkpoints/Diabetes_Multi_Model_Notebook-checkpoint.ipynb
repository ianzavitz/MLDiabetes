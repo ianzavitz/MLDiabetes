{
 "cells": [
  {
   "cell_type": "code",
   "execution_count": 29,
   "metadata": {
    "collapsed": true
   },
   "outputs": [],
   "source": [
    "import matplotlib.pyplot as plt\n",
    "%matplotlib inline\n",
    "from operator import itemgetter\n",
    "import numpy as np\n",
    "import re\n",
    "from sklearn.ensemble import RandomForestClassifier,BaggingClassifier\n",
    "import pandas as pd\n",
    "from sklearn.model_selection import train_test_split\n",
    "from sklearn.svm import LinearSVC\n",
    "from sklearn.metrics import accuracy_score\n",
    "from sklearn.metrics import f1_score\n",
    "from sklearn.linear_model import LogisticRegression\n",
    "from sklearn.feature_selection import RFECV\n",
    "from sklearn.feature_selection import RFE\n",
    "from sklearn.preprocessing import Normalizer\n",
    "from sklearn.model_selection import StratifiedKFold\n",
    "from sklearn.datasets import make_classification\n",
    "from sklearn.svm import SVC\n",
    "from sklearn.calibration import CalibratedClassifierCV\n",
    "from sklearn.calibration import calibration_curve\n",
    "from matplotlib import pyplot\n",
    "from sklearn.model_selection import GridSearchCV\n",
    "from sklearn.multiclass import OneVsRestClassifier\n",
    "\n",
    "### FORMATTING DATA ###\n",
    "data=pd.read_csv('diabetic_data.csv')\n",
    "diag=data[['diag_1','diag_2','diag_3']]\n",
    "data=data.drop(['admission_type_id','discharge_disposition_id','admission_source_id','max_glu_serum','number_inpatient','number_emergency','number_outpatient','encounter_id','patient_nbr','weight','payer_code','A1Cresult','medical_specialty','max_glu_serum','diag_1','diag_2','diag_3'],axis=1)\n",
    "data=data.drop(data[data.race=='?'].index)\n",
    "data=data.drop(data[data.gender=='Unknown/Invalid'].index)\n",
    "read=data['readmitted']\n",
    "read=read.str.upper()\n",
    "read=read.replace(['NO','<30','>30'],[0,1,1])\n",
    "data=data.replace(['None','Female','No','Down'],0)\n",
    "data=data.replace(['Male','Yes','Up','Steady'],1)\n",
    "data=data.replace(['Down'],2)\n",
    "r=pd.get_dummies(data[['race','diabetesMed']])\n",
    "change=pd.get_dummies(data['change'])\n",
    "a=pd.get_dummies(data['age'])\n",
    "newdata=pd.concat([data,r,a,change],axis=1)\n",
    "newdata=newdata.drop(['age','race','readmitted','change','diabetesMed'],axis=1)\n",
    "X=data.drop(['readmitted'],axis=1)\n",
    "read=np.array(read)\n",
    "########################\n",
    "\n",
    "#### SPLITTING DATA ####\n",
    "x, X_test, y, y_test = train_test_split(newdata, read, test_size = 0.15, random_state = 0)\n",
    "X_train,x_dev,y_train,y_dev=train_test_split(x,y,test_size=.18, random_state=0)\n",
    "########################"
   ]
  },
  {
   "cell_type": "code",
   "execution_count": 22,
   "metadata": {},
   "outputs": [
    {
     "name": "stdout",
     "output_type": "stream",
     "text": [
      "Testing newton-cg\n",
      "  C = 0.0001 : Accuracy: 0.55942 F1: 0.43988\n",
      "  C = 0.001 : Accuracy: 0.55567 F1: 0.46392\n",
      "  C = 0.01 : Accuracy: 0.55837 F1: 0.46637\n",
      "  C = 0.1 : Accuracy: 0.55909 F1: 0.46736\n",
      "  C = 1 : Accuracy: 0.55889 F1: 0.46696\n",
      "  C = 10 : Accuracy: 0.55863 F1: 0.46685\n",
      "  C = 20 : Accuracy: 0.55843 F1: 0.46688\n",
      "  C = 50 : Accuracy: 0.5585 F1: 0.46688\n",
      "  C = 100 : Accuracy: 0.5585 F1: 0.46688\n",
      "  C = 1000 : Accuracy: 0.5585 F1: 0.46688\n",
      "Testing lbfgs\n",
      "  C = 0.0001 : Accuracy: 0.5585 F1: 0.43992\n",
      "  C = 0.001 : Accuracy: 0.55541 F1: 0.46756\n",
      "  C = 0.01 : Accuracy: 0.56014 F1: 0.47024\n",
      "  C = 0.1 : Accuracy: 0.55909 F1: 0.47446\n",
      "  C = 1 : Accuracy: 0.56066 F1: 0.46733\n",
      "  C = 10 : Accuracy: 0.55975 F1: 0.46689\n",
      "  C = 20 : Accuracy: 0.55896 F1: 0.45986\n",
      "  C = 50 : Accuracy: 0.55896 F1: 0.46763\n",
      "  C = 100 : Accuracy: 0.55922 F1: 0.46884\n",
      "  C = 1000 : Accuracy: 0.55823 F1: 0.46947\n",
      "Testing liblinear\n",
      "  C = 0.0001 : Accuracy: 0.5583 F1: 0.37119\n",
      "  C = 0.001 : Accuracy: 0.55153 F1: 0.43917\n",
      "  C = 0.01 : Accuracy: 0.55758 F1: 0.46355\n",
      "  C = 0.1 : Accuracy: 0.56014 F1: 0.46716\n",
      "  C = 1 : Accuracy: 0.55929 F1: 0.46723\n",
      "  C = 10 : Accuracy: 0.55896 F1: 0.46705\n",
      "  C = 20 : Accuracy: 0.5585 F1: 0.4668\n",
      "  C = 50 : Accuracy: 0.5585 F1: 0.46701\n",
      "  C = 100 : Accuracy: 0.55856 F1: 0.46684\n",
      "  C = 1000 : Accuracy: 0.55856 F1: 0.46737\n",
      "Testing sag\n",
      "  C = 0.0001 : Accuracy: 0.55876 F1: 0.43988\n",
      "  C = 0.001 : Accuracy: 0.55567 F1: 0.46392\n"
     ]
    },
    {
     "name": "stderr",
     "output_type": "stream",
     "text": [
      "/Applications/anaconda/lib/python3.6/site-packages/sklearn/linear_model/sag.py:286: ConvergenceWarning: The max_iter was reached which means the coef_ did not converge\n",
      "  \"the coef_ did not converge\", ConvergenceWarning)\n"
     ]
    },
    {
     "name": "stdout",
     "output_type": "stream",
     "text": [
      "  C = 0.01 : Accuracy: 0.55837 F1: 0.46574\n",
      "  C = 0.1 : Accuracy: 0.55948 F1: 0.46766\n",
      "  C = 1 : Accuracy: 0.55942 F1: 0.46787\n",
      "  C = 10 : Accuracy: 0.55935 F1: 0.46808\n",
      "  C = 20 : Accuracy: 0.55942 F1: 0.46812\n",
      "  C = 50 : Accuracy: 0.55948 F1: 0.46808\n",
      "  C = 100 : Accuracy: 0.55942 F1: 0.46808\n",
      "  C = 1000 : Accuracy: 0.55942 F1: 0.46804\n",
      "\n",
      "Best model score by accuracy: 0.560664783551 \n",
      "from model:   LogisticRegression(C=0.1, class_weight=None, dual=False, fit_intercept=True,\n",
      "          intercept_scaling=1, max_iter=100, multi_class='ovr', n_jobs=1,\n",
      "          penalty='l2', random_state=None, solver='lbfgs', tol=0.0001,\n",
      "          verbose=0, warm_start=False)\n",
      "\n",
      "Corresponding f1: 0.474461731887\n"
     ]
    }
   ],
   "source": [
    "#### Logistic Regression ####\n",
    "models = []\n",
    "#grid search along solver and C values\n",
    "sol=['newton-cg', 'lbfgs', 'liblinear', 'sag']\n",
    "cs=[.0001,.001,.01,.1,1,10,20,50,100,1000]\n",
    "for s in sol:\n",
    "    print(\"Testing\",s)\n",
    "    for c in cs:\n",
    "        model = LogisticRegression(C=c,solver=s)\n",
    "        model.fit(X_train,y_train)\n",
    "        pred=(model.predict(x_dev))\n",
    "        testy=np.array(y_dev)\n",
    "        f = f1_score(testy,pred)\n",
    "        print(\"  C =\",c,\": Accuracy:\",round(acc,5),\"F1:\",round(f,5))\n",
    "        acc=accuracy_score(pred,testy)\n",
    "        models.append((model,acc,f))\n",
    "        \n",
    "top_acc = max(models,key=itemgetter(1))[1]\n",
    "top_acc_f1 = max(models,key=itemgetter(1))[2]\n",
    "top_model_acc = max(models,key=itemgetter(1))[0]\n",
    "\n",
    "print('\\nBest model score by accuracy:',top_acc,\"\\nfrom model:  \",top_model_acc)\n",
    "print('\\nCorresponding f1:',top_acc_f1)\n",
    "\n"
   ]
  },
  {
   "cell_type": "code",
   "execution_count": 33,
   "metadata": {},
   "outputs": [
    {
     "name": "stdout",
     "output_type": "stream",
     "text": [
      "n_estimators = 10\n",
      "\tmax_depth = 5\n",
      "\t50 iterations\n",
      "\tBest model score: 0.561847204887\n",
      "\tmax_depth = 10\n",
      "\t50 iterations\n",
      "\tBest model score: 0.572620377061\n",
      "\tmax_depth = 15\n",
      "\t50 iterations\n",
      "\tBest model score: 0.570715364908\n",
      "10 estimators \tbest at max_depth = 10 \n",
      "score = 0.572620377061\n",
      "\n",
      "\n",
      "n_estimators = 15\n",
      "\tmax_depth = 5\n",
      "\t50 iterations\n",
      "\tBest model score: 0.564671878079\n",
      "\tmax_depth = 10\n",
      "\t50 iterations\n",
      "\tBest model score: 0.574525389214\n",
      "\tmax_depth = 15\n",
      "\t50 iterations\n",
      "\tBest model score: 0.571635025948\n",
      "15 estimators \tbest at max_depth = 10 \n",
      "score = 0.574525389214\n",
      "\n",
      "\n",
      "n_estimators = 20\n",
      "\tmax_depth = 5\n",
      "\t50 iterations\n",
      "\tBest model score: 0.564540497931\n",
      "\tmax_depth = 10\n",
      "\t50 iterations\n",
      "\tBest model score: 0.573737108323\n",
      "\tmax_depth = 15\n",
      "\t50 iterations\n",
      "\tBest model score: 0.572554686987\n",
      "20 estimators \tbest at max_depth = 10 \n",
      "score = 0.573737108323\n",
      "\n",
      "\n",
      "Best accuracy: 0.574525389214  f1: 0.479717246365\n"
     ]
    },
    {
     "data": {
      "image/png": "[encoded data removed]",
      "text/plain": [
       "<matplotlib.figure.Figure at 0x11fd9f240>"
      ]
     },
     "metadata": {},
     "output_type": "display_data"
    },
    {
     "name": "stdout",
     "output_type": "stream",
     "text": [
      "1 gender   2 time_in_hospital   3 num_lab_procedures   4 num_procedures   5 num_medications   6 number_diagnoses   7 metformin   8 repaglinide   9 nateglinide   10 chlorpropamide   11 glimepiride   12 acetohexamide   13 glipizide   14 glyburide   15 tolbutamide   16 pioglitazone   17 rosiglitazone   18 acarbose   19 miglitol   20 troglitazone   21 tolazamide   22 examide   23 citoglipton   24 insulin   25 glyburide-metformin   26 glipizide-metformin   27 glimepiride-pioglitazone   28 metformin-rosiglitazone   29 metformin-pioglitazone   30 race_AfricanAmerican   31 race_Asian   32 race_Caucasian   33 race_Hispanic   34 race_Other   35 [0-10)   36 [10-20)   37 [20-30)   38 [30-40)   39 [40-50)   40 [50-60)   41 [60-70)   42 [70-80)   43 [80-90)   44 [90-100)   45 0   46 Ch   "
     ]
    }
   ],
   "source": [
    "#### RANDOM FOREST ####\n",
    "\n",
    "\n",
    "#hyperparameter grid search \n",
    "mxDepth = [5,10,15] #max_depth \n",
    "n_ests = [10,15,20] #n_estimators\n",
    "best_models = []\n",
    "for n in n_ests:\n",
    "    print(\"n_estimators =\",n)\n",
    "    maximized_models=[]\n",
    "    for mD in mxDepth:\n",
    "        results = []\n",
    "        print(\"\\tmax_depth =\",mD)\n",
    "        for _ in range(51):\n",
    "            model = RandomForestClassifier(n_estimators=n,max_depth=mD)\n",
    "            model.fit(X_train,y_train)\n",
    "            pred = model.predict(x_dev)\n",
    "            testy=np.array(y_dev)\n",
    "            print('\\t'+str(_)+\" iterations\",end=\"\\r\",flush=True)\n",
    "\n",
    "            results.append((model,accuracy_score(pred,testy)))\n",
    "        print('\\n\\tBest model score:',max(results,key=itemgetter(1))[1])\n",
    "        maximized_models.append((max(results,key=itemgetter(1))[0],max(results,key=itemgetter(1))[1],mD))\n",
    "\n",
    "    print(n,\"estimators\",\"\\tbest at max_depth =\",max(maximized_models,key=itemgetter(1))[2],\"\\nscore =\",max(maximized_models,key=itemgetter(1))[1])\n",
    "    print(\"\\n\")\n",
    "    best_models.append((max(maximized_models,key=itemgetter(1))[0],max(maximized_models,key=itemgetter(1))[1],n))\n",
    "\n",
    "#grid search derived best model\n",
    "final_best = max(best_models,key=itemgetter(1))[0]\n",
    "f1 = f1_score(y_dev, final_best.predict(x_dev))\n",
    "\n",
    "print(\"Best accuracy:\",max(best_models,key=itemgetter(1))[1],\" f1:\",f1)\n",
    "plt.bar(range(1,len(final_best.feature_importances_)+1),final_best.feature_importances_,ls=\"None\")\n",
    "plt.xlabel(\"Variable\")\n",
    "plt.ylabel(\"Importance (%)\")\n",
    "plt.title(\"Variable Importances\")\n",
    "plt.show()\n",
    "for idx, column in enumerate(newdata.columns):\n",
    "    print(idx+1, column, end=\"   \")"
   ]
  },
  {
   "cell_type": "code",
   "execution_count": 32,
   "metadata": {},
   "outputs": [
    {
     "name": "stdout",
     "output_type": "stream",
     "text": [
      "accuracy: 0.5408067542213884\n"
     ]
    }
   ],
   "source": [
    "#### Baye's ####\n",
    "\n",
    "#bayes doesn't work for the hold out method, so we won't have a dev set\n",
    "train_X, test_X, train_y, test_y = train_test_split(data, read, test_size=0.3,random_state=0)\n",
    "#print(train_X)\n",
    "trainX=np.array(test_X)\n",
    "trainy=np.array(test_y)\n",
    "\n",
    "#print(trainX)\n",
    "answers=[]\n",
    "for thing in trainX:\n",
    "   # print(len(thing))\n",
    "    #num lab, diabetes meds, time in hospital <4\n",
    "    if thing[2]==1 and thing[3]>=4 and thing[4]>=40 and thing[31]=='Yes':\n",
    "       # print(thing[31])\n",
    "        answers.append(1)\n",
    "    else:\n",
    "        answers.append(0)\n",
    "i=0\n",
    "#trainX=list(trainX)\n",
    "test=0\n",
    "for answer in answers:\n",
    "    if answer==trainy[i]:\n",
    "        test+=1\n",
    "    i+=1\n",
    "print(\"accuracy:\",test/len(answers))"
   ]
  },
  {
   "cell_type": "code",
   "execution_count": 20,
   "metadata": {},
   "outputs": [
    {
     "data": {
      "image/png": "[encoded data removed]",
      "text/plain": [
       "<matplotlib.figure.Figure at 0x11b4b2128>"
      ]
     },
     "metadata": {},
     "output_type": "display_data"
    },
    {
     "name": "stdout",
     "output_type": "stream",
     "text": [
      "f1: 0.174603174603\n",
      "accuracy: 0.535439795047\n"
     ]
    }
   ],
   "source": [
    "#### LinearSVC reliability diagram with calibration ####\n",
    "\n",
    "# fit a model\n",
    "model = LinearSVC()\n",
    "calibrated = CalibratedClassifierCV(model, method='sigmoid', cv=5)\n",
    "calibrated.fit(X_train, y_train)\n",
    "# predict probabilities\n",
    "probs = calibrated.predict_proba(x_dev)[:, 1]\n",
    "# reliability diagram\n",
    "fop, mpv = calibration_curve(y_dev, probs, n_bins=10, normalize=True)\n",
    "# plot perfectly calibrated\n",
    "pyplot.plot([0, 1], [0, 1], linestyle='--')\n",
    "# plot calibrated reliability\n",
    "pyplot.plot(mpv, fop, marker='.')\n",
    "pyplot.show()\n",
    "\n",
    "\n",
    "#Predict and find accuracy\n",
    "pred=(calibrated.predict(x_dev))\n",
    "print(\"f1:\",f1_score(pred,y_dev))\n",
    "print(\"accuracy:\",accuracy_score(pred,y_dev))\n"
   ]
  },
  {
   "cell_type": "code",
   "execution_count": 21,
   "metadata": {},
   "outputs": [
    {
     "data": {
      "image/png": "[encoded data removed]",
      "text/plain": [
       "<matplotlib.figure.Figure at 0x11c1665c0>"
      ]
     },
     "metadata": {},
     "output_type": "display_data"
    },
    {
     "name": "stdout",
     "output_type": "stream",
     "text": [
      "f1: 0.439672459893\n",
      "accuracy: 0.559482362215\n"
     ]
    }
   ],
   "source": [
    "#### SVC BaggingClassifier diagram with calibration ####\n",
    "\n",
    "n_estimators = 10\n",
    "# fit a model\n",
    "model = OneVsRestClassifier(BaggingClassifier(SVC(kernel='linear', probability=True), max_samples=1.0 / n_estimators, n_estimators=n_estimators))\n",
    "calibrated = CalibratedClassifierCV(model, method='sigmoid', cv=5)\n",
    "calibrated.fit(X_train, y_train)\n",
    "# predict probabilities\n",
    "probs = calibrated.predict_proba(x_dev)[:, 1]\n",
    "# reliability diagram\n",
    "fop, mpv = calibration_curve(y_dev, probs, n_bins=10, normalize=True)\n",
    "# plot perfectly calibrated\n",
    "pyplot.plot([0, 1], [0, 1], linestyle='--')\n",
    "# plot calibrated reliability\n",
    "pyplot.plot(mpv, fop, marker='.')\n",
    "pyplot.show()\n",
    "\n",
    "#Predict and find accuracy\n",
    "pred=(calibrated.predict(x_dev))\n",
    "print(\"f1:\",f1_score(pred,y_dev))\n",
    "print(\"accuracy:\",accuracy_score(pred,y_dev))\n"
   ]
  },
  {
   "cell_type": "code",
   "execution_count": 27,
   "metadata": {},
   "outputs": [
    {
     "name": "stdout",
     "output_type": "stream",
     "text": [
      "\n",
      "final accuracy score: 0.563320825516  f1:  0.452398958071\n"
     ]
    }
   ],
   "source": [
    "#Random Forest yeilded the most accurate model\n",
    "#Now we will run our model on the test set to get a final score\n",
    "pred_final = final_best.predict(X_test)\n",
    "print(\"\\nfinal accuracy score:\",accuracy_score(pred_final,np.array(y_test)),\" f1: \",f1_score(y_test,pred_final))"
   ]
  },
  {
   "cell_type": "code",
   "execution_count": null,
   "metadata": {
    "collapsed": true
   },
   "outputs": [],
   "source": []
  }
 ],
 "metadata": {
  "kernelspec": {
   "display_name": "Python 3",
   "language": "python",
   "name": "python3"
  },
  "language_info": {
   "codemirror_mode": {
    "name": "ipython",
    "version": 3
   },
   "file_extension": ".py",
   "mimetype": "text/x-python",
   "name": "python",
   "nbconvert_exporter": "python",
   "pygments_lexer": "ipython3",
   "version": "3.6.3"
  }
 },
 "nbformat": 4,
 "nbformat_minor": 2
}
