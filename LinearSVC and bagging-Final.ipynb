{
 "cells": [
  {
   "cell_type": "code",
   "execution_count": 13,
   "metadata": {},
   "outputs": [],
   "source": [
    "import numpy as np\n",
    "import re\n",
    "from sklearn.ensemble import RandomForestClassifier,BaggingClassifier\n",
    "import pandas as pd\n",
    "from sklearn.model_selection import train_test_split\n",
    "from sklearn.svm import LinearSVC\n",
    "from sklearn.metrics import accuracy_score\n",
    "from sklearn.metrics import f1_score\n",
    "from sklearn.linear_model import LogisticRegression\n",
    "from sklearn.feature_selection import RFECV\n",
    "from sklearn.feature_selection import RFE\n",
    "from sklearn.preprocessing import Normalizer\n",
    "from sklearn.model_selection import StratifiedKFold\n",
    "from sklearn.datasets import make_classification\n",
    "from sklearn.svm import SVC\n",
    "from sklearn.calibration import CalibratedClassifierCV\n",
    "from sklearn.calibration import calibration_curve\n",
    "from matplotlib import pyplot\n",
    "from sklearn.model_selection import GridSearchCV\n",
    "from sklearn.multiclass import OneVsRestClassifier\n",
    "\n"
   ]
  },
  {
   "cell_type": "code",
   "execution_count": 2,
   "metadata": {},
   "outputs": [],
   "source": [
    "def crossCheck(cross,foldnum):\n",
    "    scores=[]\n",
    "    for i in range(len(cross)):\n",
    "\n",
    "        ctrain=[]\n",
    "        ctrain_y=[]\n",
    "        testnum=foldnum-i-1\n",
    "        testme=[]\n",
    "        testme_y=[]\n",
    "        \n",
    "        testme=np.array(testme)\n",
    "        testme_y=np.array(testme_y)\n",
    "        j=0\n",
    "        while j<len(cross):\n",
    "\n",
    "            \n",
    "            if j!=testnum:\n",
    "                for thing in cross[j]:\n",
    "                    ctrain.append(thing[0])\n",
    "                    ctrain_y.append(thing[1])\n",
    "               \n",
    "            j+=1\n",
    "\n",
    "# meds=[]\n",
    "# with open('meds.txt') as medt:\n",
    "#     meds=medt.readline().strip().split('\\t')\n",
    "data=pd.read_csv('diabetic_data.csv')\n",
    "diag=data[['diag_1','diag_2','diag_3']]\n",
    "#for thing in diag:\n",
    "data=data.drop(['admission_type_id','discharge_disposition_id','admission_source_id','max_glu_serum','number_inpatient','number_emergency','number_outpatient','encounter_id','patient_nbr','weight','payer_code','A1Cresult','medical_specialty','max_glu_serum','diag_1','diag_2','diag_3'],axis=1)\n",
    "data=data.drop(data[data.race=='?'].index)\n",
    "\n",
    "data=data.drop(data[data.gender=='Unknown/Invalid'].index)\n",
    "#data=data.drop(data[data.diag_3==str].index)\n",
    "\n",
    "\n",
    "read=data['readmitted']\n",
    "read=read.str.upper()\n",
    "read=read.replace(['NO','<30','>30'],[0,1,1])\n",
    "\n",
    "#print(read)\n",
    "data=data.replace(['None','Female','No','Down'],0)\n",
    "data=data.replace(['Male','Yes','Up','Steady'],1)\n",
    "#data=data.replace(['[0-10)','[10-20)','[20-30)','[30-40)','[40-50)','[50-60)','[60-70)','[70-80)','[80-90)','[90-100)'],[0,1,2,3,4,5,6,7,8,9])\n",
    "data=data.replace(['Down'],2)\n",
    "#data=data.replace(['Other','Hispanic'],[3,4])\n",
    "r=pd.get_dummies(data[['race','diabetesMed']])\n",
    "change=pd.get_dummies(data['change'])\n",
    "a=pd.get_dummies(data['age'])\n",
    "#meddum=pd.get_dummies(data[meds])\n",
    "\n",
    "newdata=pd.concat([data,r,a,change],axis=1)\n",
    "newdata=newdata.drop(['age','race','readmitted','change','diabetesMed'],axis=1)\n",
    "#newdata=newdata.drop(meds,axis=1)\n",
    "\n",
    "X=data.drop(['readmitted'],axis=1)\n",
    "\n",
    "read=np.array(read)\n",
    "#for thing in read:\n",
    "#    print(thing)\n",
    "x, X_test, y, y_test = train_test_split(newdata, read, test_size = 0.15, random_state = 0)\n",
    "X_train,x_dev,y_train,y_dev=train_test_split(x,y,test_size=.18, random_state=0)"
   ]
  },
  {
   "cell_type": "code",
   "execution_count": 3,
   "metadata": {},
   "outputs": [
    {
     "data": {
      "image/png": "[encoded data removed]",
      "text/plain": [
       "<Figure size 432x288 with 1 Axes>"
      ]
     },
     "metadata": {},
     "output_type": "display_data"
    }
   ],
   "source": [
    "# LinearSVC reliability diagram with calibration\n",
    "\n",
    "# fit a model\n",
    "model = LinearSVC()\n",
    "calibrated = CalibratedClassifierCV(model, method='sigmoid', cv=5)\n",
    "calibrated.fit(X_train, y_train)\n",
    "# predict probabilities\n",
    "probs = calibrated.predict_proba(x_dev)[:, 1]\n",
    "# reliability diagram\n",
    "fop, mpv = calibration_curve(y_dev, probs, n_bins=10, normalize=True)\n",
    "# plot perfectly calibrated\n",
    "pyplot.plot([0, 1], [0, 1], linestyle='--')\n",
    "# plot calibrated reliability\n",
    "pyplot.plot(mpv, fop, marker='.')\n",
    "pyplot.show()"
   ]
  },
  {
   "cell_type": "code",
   "execution_count": 9,
   "metadata": {},
   "outputs": [
    {
     "name": "stdout",
     "output_type": "stream",
     "text": [
      "0.07121507472384665\n",
      "0.5305130394797346\n"
     ]
    }
   ],
   "source": [
    "\n",
    "#Predict and find accuracy\n",
    "pred=(calibrated.predict(x_dev))\n",
    "print(f1_score(pred,y_dev))\n",
    "print(accuracy_score(pred,y_dev))\n"
   ]
  },
  {
   "cell_type": "code",
   "execution_count": null,
   "metadata": {},
   "outputs": [],
   "source": [
    "\n",
    "# SVC BaggingClassifier diagram with calibration\n",
    "n_estimators = 10\n",
    "# fit a model\n",
    "model = OneVsRestClassifier(BaggingClassifier(SVC(kernel='linear', probability=True), max_samples=1.0 / n_estimators, n_estimators=n_estimators))\n",
    "calibrated = CalibratedClassifierCV(model, method='sigmoid', cv=5)\n",
    "calibrated.fit(X_train, y_train)\n",
    "# predict probabilities\n",
    "probs = calibrated.predict_proba(x_dev)[:, 1]\n",
    "# reliability diagram\n",
    "fop, mpv = calibration_curve(y_dev, probs, n_bins=10, normalize=True)\n",
    "# plot perfectly calibrated\n",
    "pyplot.plot([0, 1], [0, 1], linestyle='--')\n",
    "# plot calibrated reliability\n",
    "pyplot.plot(mpv, fop, marker='.')\n",
    "pyplot.show()\n"
   ]
  },
  {
   "cell_type": "code",
   "execution_count": null,
   "metadata": {},
   "outputs": [],
   "source": [
    "#Predict and find accuracy\n",
    "pred=(calibrated.predict(x_dev))\n",
    "print(f1_score(pred,y_dev))\n",
    "print(accuracy_score(pred,y_dev))\n"
   ]
  }
 ],
 "metadata": {
  "kernelspec": {
   "display_name": "Python 3",
   "language": "python",
   "name": "python3"
  },
  "language_info": {
   "codemirror_mode": {
    "name": "ipython",
    "version": 3
   },
   "file_extension": ".py",
   "mimetype": "text/x-python",
   "name": "python",
   "nbconvert_exporter": "python",
   "pygments_lexer": "ipython3",
   "version": "3.6.5"
  }
 },
 "nbformat": 4,
 "nbformat_minor": 2
}
